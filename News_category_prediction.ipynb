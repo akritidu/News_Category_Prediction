{
  "nbformat": 4,
  "nbformat_minor": 0,
  "metadata": {
    "colab": {
      "name": "News_category_prediction.ipynb",
      "provenance": [],
      "collapsed_sections": [],
      "authorship_tag": "ABX9TyNQP59oiCD5kcH37wHSklVr",
      "include_colab_link": true
    },
    "kernelspec": {
      "name": "python3",
      "display_name": "Python 3"
    },
    "language_info": {
      "name": "python"
    }
  },
  "cells": [
    {
      "cell_type": "markdown",
      "metadata": {
        "id": "view-in-github",
        "colab_type": "text"
      },
      "source": [
        "<a href=\"https://colab.research.google.com/github/akritidu/news_category_prediction/blob/main/News_category_prediction.ipynb\" target=\"_parent\"><img src=\"https://colab.research.google.com/assets/colab-badge.svg\" alt=\"Open In Colab\"/></a>"
      ]
    },
    {
      "cell_type": "code",
      "metadata": {
        "id": "OErrks9_2R44"
      },
      "source": [
        "\n",
        "import tensorflow as tf\n",
        "from keras import initializers, regularizers, constraints, optimizers, layers, callbacks\n",
        "from keras.callbacks import EarlyStopping,ModelCheckpoint\n",
        "from keras.preprocessing.text import Tokenizer\n",
        "from keras.preprocessing.sequence import pad_sequences\n",
        "from keras.preprocessing import text, sequence\n",
        "from keras import initializers, regularizers, constraints, optimizers, layers\n",
        "from keras.models import Model, Input, Sequential\n",
        "from keras.layers import Dense, Input, LSTM, SimpleRNN, Embedding, Dropout, SpatialDropout1D, Activation, Conv1D,GRU\n",
        "from keras.layers import Conv1D, Bidirectional, GlobalMaxPool1D, MaxPooling1D, BatchNormalization, Add, Flatten\n",
        "from keras.layers import GlobalMaxPooling1D, GlobalAveragePooling1D, concatenate, SpatialDropout1D\n",
        "from tensorflow.keras.optimizers import Adam\n",
        "from keras.utils.vis_utils import plot_model\n",
        "from sklearn.model_selection  import train_test_split\n",
        "\n",
        "import pandas as pd"
      ],
      "execution_count": null,
      "outputs": []
    },
    {
      "cell_type": "code",
      "metadata": {
        "colab": {
          "base_uri": "https://localhost:8080/"
        },
        "id": "C1Ss5LoS2_hT",
        "outputId": "aa5ee06d-84ab-45bc-c333-edbdd3c72ef4"
      },
      "source": [
        "from google.colab import drive\n",
        "drive.mount('/content/drive')"
      ],
      "execution_count": 49,
      "outputs": [
        {
          "output_type": "stream",
          "name": "stdout",
          "text": [
            "Drive already mounted at /content/drive; to attempt to forcibly remount, call drive.mount(\"/content/drive\", force_remount=True).\n"
          ]
        }
      ]
    },
    {
      "cell_type": "code",
      "metadata": {
        "colab": {
          "base_uri": "https://localhost:8080/",
          "height": 206
        },
        "id": "LYSJCdRTI9lv",
        "outputId": "83adf037-2d91-44d1-944d-c23c3c177416"
      },
      "source": [
        "df = pd.read_csv(\"/content/drive/MyDrive/Dataset/BBC News Train.csv\")\n",
        "df.head()"
      ],
      "execution_count": 50,
      "outputs": [
        {
          "output_type": "execute_result",
          "data": {
            "text/html": [
              "\n",
              "  <div id=\"df-9b265f55-f087-459a-8949-f6babb628a18\">\n",
              "    <div class=\"colab-df-container\">\n",
              "      <div>\n",
              "<style scoped>\n",
              "    .dataframe tbody tr th:only-of-type {\n",
              "        vertical-align: middle;\n",
              "    }\n",
              "\n",
              "    .dataframe tbody tr th {\n",
              "        vertical-align: top;\n",
              "    }\n",
              "\n",
              "    .dataframe thead th {\n",
              "        text-align: right;\n",
              "    }\n",
              "</style>\n",
              "<table border=\"1\" class=\"dataframe\">\n",
              "  <thead>\n",
              "    <tr style=\"text-align: right;\">\n",
              "      <th></th>\n",
              "      <th>ArticleId</th>\n",
              "      <th>Text</th>\n",
              "      <th>Category</th>\n",
              "    </tr>\n",
              "  </thead>\n",
              "  <tbody>\n",
              "    <tr>\n",
              "      <th>0</th>\n",
              "      <td>1833</td>\n",
              "      <td>worldcom ex-boss launches defence lawyers defe...</td>\n",
              "      <td>business</td>\n",
              "    </tr>\n",
              "    <tr>\n",
              "      <th>1</th>\n",
              "      <td>154</td>\n",
              "      <td>german business confidence slides german busin...</td>\n",
              "      <td>business</td>\n",
              "    </tr>\n",
              "    <tr>\n",
              "      <th>2</th>\n",
              "      <td>1101</td>\n",
              "      <td>bbc poll indicates economic gloom citizens in ...</td>\n",
              "      <td>business</td>\n",
              "    </tr>\n",
              "    <tr>\n",
              "      <th>3</th>\n",
              "      <td>1976</td>\n",
              "      <td>lifestyle  governs mobile choice  faster  bett...</td>\n",
              "      <td>tech</td>\n",
              "    </tr>\n",
              "    <tr>\n",
              "      <th>4</th>\n",
              "      <td>917</td>\n",
              "      <td>enron bosses in $168m payout eighteen former e...</td>\n",
              "      <td>business</td>\n",
              "    </tr>\n",
              "  </tbody>\n",
              "</table>\n",
              "</div>\n",
              "      <button class=\"colab-df-convert\" onclick=\"convertToInteractive('df-9b265f55-f087-459a-8949-f6babb628a18')\"\n",
              "              title=\"Convert this dataframe to an interactive table.\"\n",
              "              style=\"display:none;\">\n",
              "        \n",
              "  <svg xmlns=\"http://www.w3.org/2000/svg\" height=\"24px\"viewBox=\"0 0 24 24\"\n",
              "       width=\"24px\">\n",
              "    <path d=\"M0 0h24v24H0V0z\" fill=\"none\"/>\n",
              "    <path d=\"M18.56 5.44l.94 2.06.94-2.06 2.06-.94-2.06-.94-.94-2.06-.94 2.06-2.06.94zm-11 1L8.5 8.5l.94-2.06 2.06-.94-2.06-.94L8.5 2.5l-.94 2.06-2.06.94zm10 10l.94 2.06.94-2.06 2.06-.94-2.06-.94-.94-2.06-.94 2.06-2.06.94z\"/><path d=\"M17.41 7.96l-1.37-1.37c-.4-.4-.92-.59-1.43-.59-.52 0-1.04.2-1.43.59L10.3 9.45l-7.72 7.72c-.78.78-.78 2.05 0 2.83L4 21.41c.39.39.9.59 1.41.59.51 0 1.02-.2 1.41-.59l7.78-7.78 2.81-2.81c.8-.78.8-2.07 0-2.86zM5.41 20L4 18.59l7.72-7.72 1.47 1.35L5.41 20z\"/>\n",
              "  </svg>\n",
              "      </button>\n",
              "      \n",
              "  <style>\n",
              "    .colab-df-container {\n",
              "      display:flex;\n",
              "      flex-wrap:wrap;\n",
              "      gap: 12px;\n",
              "    }\n",
              "\n",
              "    .colab-df-convert {\n",
              "      background-color: #E8F0FE;\n",
              "      border: none;\n",
              "      border-radius: 50%;\n",
              "      cursor: pointer;\n",
              "      display: none;\n",
              "      fill: #1967D2;\n",
              "      height: 32px;\n",
              "      padding: 0 0 0 0;\n",
              "      width: 32px;\n",
              "    }\n",
              "\n",
              "    .colab-df-convert:hover {\n",
              "      background-color: #E2EBFA;\n",
              "      box-shadow: 0px 1px 2px rgba(60, 64, 67, 0.3), 0px 1px 3px 1px rgba(60, 64, 67, 0.15);\n",
              "      fill: #174EA6;\n",
              "    }\n",
              "\n",
              "    [theme=dark] .colab-df-convert {\n",
              "      background-color: #3B4455;\n",
              "      fill: #D2E3FC;\n",
              "    }\n",
              "\n",
              "    [theme=dark] .colab-df-convert:hover {\n",
              "      background-color: #434B5C;\n",
              "      box-shadow: 0px 1px 3px 1px rgba(0, 0, 0, 0.15);\n",
              "      filter: drop-shadow(0px 1px 2px rgba(0, 0, 0, 0.3));\n",
              "      fill: #FFFFFF;\n",
              "    }\n",
              "  </style>\n",
              "\n",
              "      <script>\n",
              "        const buttonEl =\n",
              "          document.querySelector('#df-9b265f55-f087-459a-8949-f6babb628a18 button.colab-df-convert');\n",
              "        buttonEl.style.display =\n",
              "          google.colab.kernel.accessAllowed ? 'block' : 'none';\n",
              "\n",
              "        async function convertToInteractive(key) {\n",
              "          const element = document.querySelector('#df-9b265f55-f087-459a-8949-f6babb628a18');\n",
              "          const dataTable =\n",
              "            await google.colab.kernel.invokeFunction('convertToInteractive',\n",
              "                                                     [key], {});\n",
              "          if (!dataTable) return;\n",
              "\n",
              "          const docLinkHtml = 'Like what you see? Visit the ' +\n",
              "            '<a target=\"_blank\" href=https://colab.research.google.com/notebooks/data_table.ipynb>data table notebook</a>'\n",
              "            + ' to learn more about interactive tables.';\n",
              "          element.innerHTML = '';\n",
              "          dataTable['output_type'] = 'display_data';\n",
              "          await google.colab.output.renderOutput(dataTable, element);\n",
              "          const docLink = document.createElement('div');\n",
              "          docLink.innerHTML = docLinkHtml;\n",
              "          element.appendChild(docLink);\n",
              "        }\n",
              "      </script>\n",
              "    </div>\n",
              "  </div>\n",
              "  "
            ],
            "text/plain": [
              "   ArticleId                                               Text  Category\n",
              "0       1833  worldcom ex-boss launches defence lawyers defe...  business\n",
              "1        154  german business confidence slides german busin...  business\n",
              "2       1101  bbc poll indicates economic gloom citizens in ...  business\n",
              "3       1976  lifestyle  governs mobile choice  faster  bett...      tech\n",
              "4        917  enron bosses in $168m payout eighteen former e...  business"
            ]
          },
          "metadata": {},
          "execution_count": 50
        }
      ]
    },
    {
      "cell_type": "code",
      "source": [
        "Category = df['Category'].unique()\n",
        "print(Category)"
      ],
      "metadata": {
        "colab": {
          "base_uri": "https://localhost:8080/"
        },
        "id": "mCHC_JK7mdoV",
        "outputId": "0edcbc55-ec44-4767-adc8-548ec5b64eb3"
      },
      "execution_count": 53,
      "outputs": [
        {
          "output_type": "stream",
          "name": "stdout",
          "text": [
            "['business' 'tech' 'politics' 'sport' 'entertainment']\n"
          ]
        }
      ]
    },
    {
      "cell_type": "code",
      "source": [
        "df = df.drop(df.columns[0], axis=1) "
      ],
      "metadata": {
        "id": "j7uxbb2PF5hS"
      },
      "execution_count": null,
      "outputs": []
    },
    {
      "cell_type": "code",
      "source": [
        "X  = df['Text']"
      ],
      "metadata": {
        "id": "TSk1VczqFYsc"
      },
      "execution_count": null,
      "outputs": []
    },
    {
      "cell_type": "code",
      "source": [
        "y = pd.get_dummies(df['Category']).values\n",
        "print('Shape of label tensor:', y.shape)"
      ],
      "metadata": {
        "colab": {
          "base_uri": "https://localhost:8080/"
        },
        "id": "EcoXDSSzx3dh",
        "outputId": "80896741-b41d-4552-f0e2-a36fee4c0735"
      },
      "execution_count": null,
      "outputs": [
        {
          "output_type": "stream",
          "name": "stdout",
          "text": [
            "Shape of label tensor: (1490, 5)\n"
          ]
        }
      ]
    },
    {
      "cell_type": "code",
      "source": [
        "X_train, X_test, y_train, y_test = train_test_split(X, y, test_size=0.20, random_state=42)"
      ],
      "metadata": {
        "id": "-aze2DKFEye3"
      },
      "execution_count": null,
      "outputs": []
    },
    {
      "cell_type": "code",
      "source": [
        "tokenizer = Tokenizer(num_words=5000)\n",
        "tokenizer.fit_on_texts(X_train)\n",
        "\n",
        "X_train = tokenizer.texts_to_sequences(X_train)\n",
        "X_test = tokenizer.texts_to_sequences(X_test)\n",
        "\n",
        "vocab_size = len(tokenizer.word_index) + 1\n",
        "\n",
        "maxlen = 200\n",
        "\n",
        "X_train = pad_sequences(X_train, padding='post', maxlen=maxlen)\n",
        "X_test = pad_sequences(X_test, padding='post', maxlen=maxlen)"
      ],
      "metadata": {
        "id": "vssG5-zWFlUN"
      },
      "execution_count": null,
      "outputs": []
    },
    {
      "cell_type": "code",
      "source": [
        "\"/content/drive/MyDrive/Dataset/glove.6B.100d.txt\""
      ],
      "metadata": {
        "colab": {
          "base_uri": "https://localhost:8080/",
          "height": 35
        },
        "id": "VJFAtdG3FpAP",
        "outputId": "c9f8328b-4d25-4858-be05-2d733ddd1fbc"
      },
      "execution_count": null,
      "outputs": [
        {
          "output_type": "execute_result",
          "data": {
            "application/vnd.google.colaboratory.intrinsic+json": {
              "type": "string"
            },
            "text/plain": [
              "'/content/drive/MyDrive/Dataset/glove.6B.100d.txt'"
            ]
          },
          "metadata": {},
          "execution_count": 10
        }
      ]
    },
    {
      "cell_type": "code",
      "source": [
        "from numpy import array\n",
        "from numpy import asarray\n",
        "from numpy import zeros\n",
        "\n",
        "\n",
        "embeddings_dictionary = dict()\n",
        "\n",
        "glove_file = open(\"/content/drive/MyDrive/Dataset/glove.6B.100d.txt\")\n",
        "\n",
        "for line in glove_file:\n",
        "    records = line.split()\n",
        "    word = records[0]\n",
        "    vector_dimensions = asarray(records[1:], dtype='float32')\n",
        "    embeddings_dictionary[word] = vector_dimensions\n",
        "glove_file.close()\n",
        "\n",
        "embedding_matrix = zeros((vocab_size, 100))\n",
        "for word, index in tokenizer.word_index.items():\n",
        "    embedding_vector = embeddings_dictionary.get(word)\n",
        "    if embedding_vector is not None:\n",
        "        embedding_matrix[index] = embedding_vector"
      ],
      "metadata": {
        "id": "KfcVqkGBFpDz"
      },
      "execution_count": null,
      "outputs": []
    },
    {
      "cell_type": "markdown",
      "source": [
        "# **RNN**"
      ],
      "metadata": {
        "id": "ycslMyLDn9Ru"
      }
    },
    {
      "cell_type": "code",
      "source": [
        "sequence_input = Input(shape=(maxlen,))\n",
        "model = Embedding( vocab_size , 100, weights=[embedding_matrix], trainable=False)(sequence_input)\n",
        "model =  SimpleRNN(25, return_sequences=True)(model)\n",
        "model  = GlobalMaxPooling1D()(model)\n",
        "target = Dense(5, activation=\"sigmoid\")(model)\n",
        "RNN_model = Model(sequence_input, target)\n",
        "RNN_model.compile(loss='binary_crossentropy',optimizer=Adam(lr=1e-3),metrics=['accuracy'])"
      ],
      "metadata": {
        "id": "HZUDxXa4F0Cb",
        "colab": {
          "base_uri": "https://localhost:8080/"
        },
        "outputId": "6678b59f-a6f3-4e14-8663-197b94188d2b"
      },
      "execution_count": 58,
      "outputs": [
        {
          "output_type": "stream",
          "name": "stderr",
          "text": [
            "/usr/local/lib/python3.7/dist-packages/keras/optimizer_v2/adam.py:105: UserWarning: The `lr` argument is deprecated, use `learning_rate` instead.\n",
            "  super(Adam, self).__init__(name, **kwargs)\n"
          ]
        }
      ]
    },
    {
      "cell_type": "code",
      "source": [
        "history =RNN_model.fit(X_train, y_train, batch_size=128, epochs=15, verbose=1, validation_split=0.2)"
      ],
      "metadata": {
        "colab": {
          "base_uri": "https://localhost:8080/"
        },
        "id": "hdWxQiLJF01E",
        "outputId": "9da1eae0-d714-43e6-bad3-5fa1123e17a0"
      },
      "execution_count": 61,
      "outputs": [
        {
          "output_type": "stream",
          "name": "stdout",
          "text": [
            "Epoch 1/15\n",
            "8/8 [==============================] - 1s 78ms/step - loss: 0.3951 - accuracy: 0.7576 - val_loss: 0.3954 - val_accuracy: 0.7197\n",
            "Epoch 2/15\n",
            "8/8 [==============================] - 1s 75ms/step - loss: 0.3869 - accuracy: 0.7702 - val_loss: 0.3876 - val_accuracy: 0.7615\n",
            "Epoch 3/15\n",
            "8/8 [==============================] - 1s 73ms/step - loss: 0.3785 - accuracy: 0.8038 - val_loss: 0.3798 - val_accuracy: 0.7992\n",
            "Epoch 4/15\n",
            "8/8 [==============================] - 1s 74ms/step - loss: 0.3704 - accuracy: 0.8195 - val_loss: 0.3722 - val_accuracy: 0.8033\n",
            "Epoch 5/15\n",
            "8/8 [==============================] - 1s 72ms/step - loss: 0.3624 - accuracy: 0.8269 - val_loss: 0.3650 - val_accuracy: 0.8159\n",
            "Epoch 6/15\n",
            "8/8 [==============================] - 1s 74ms/step - loss: 0.3547 - accuracy: 0.8416 - val_loss: 0.3572 - val_accuracy: 0.8285\n",
            "Epoch 7/15\n",
            "8/8 [==============================] - 1s 72ms/step - loss: 0.3466 - accuracy: 0.8468 - val_loss: 0.3504 - val_accuracy: 0.8201\n",
            "Epoch 8/15\n",
            "8/8 [==============================] - 1s 81ms/step - loss: 0.3391 - accuracy: 0.8541 - val_loss: 0.3436 - val_accuracy: 0.8410\n",
            "Epoch 9/15\n",
            "8/8 [==============================] - 1s 75ms/step - loss: 0.3315 - accuracy: 0.8688 - val_loss: 0.3368 - val_accuracy: 0.8410\n",
            "Epoch 10/15\n",
            "8/8 [==============================] - 1s 74ms/step - loss: 0.3242 - accuracy: 0.8762 - val_loss: 0.3301 - val_accuracy: 0.8494\n",
            "Epoch 11/15\n",
            "8/8 [==============================] - 1s 72ms/step - loss: 0.3170 - accuracy: 0.8814 - val_loss: 0.3233 - val_accuracy: 0.8577\n",
            "Epoch 12/15\n",
            "8/8 [==============================] - 1s 78ms/step - loss: 0.3099 - accuracy: 0.8846 - val_loss: 0.3170 - val_accuracy: 0.8536\n",
            "Epoch 13/15\n",
            "8/8 [==============================] - 1s 73ms/step - loss: 0.3030 - accuracy: 0.8930 - val_loss: 0.3107 - val_accuracy: 0.8661\n",
            "Epoch 14/15\n",
            "8/8 [==============================] - 1s 75ms/step - loss: 0.2960 - accuracy: 0.8961 - val_loss: 0.3041 - val_accuracy: 0.8619\n",
            "Epoch 15/15\n",
            "8/8 [==============================] - 1s 77ms/step - loss: 0.2892 - accuracy: 0.9035 - val_loss: 0.2985 - val_accuracy: 0.8787\n"
          ]
        }
      ]
    },
    {
      "cell_type": "code",
      "source": [
        "import matplotlib.pyplot as plt\n",
        "## Accuracy plot\n",
        "plt.plot(history.history['accuracy'])\n",
        "plt.plot(history.history['val_accuracy'])\n",
        "plt.title('RNN Model accuracy')\n",
        "plt.ylabel('Accuracy')\n",
        "plt.xlabel('Epoch')\n",
        "plt.legend(['Training Accuracy', 'Validation Accuracy'], loc='upper left')\n",
        "plt.show()\n",
        "\n",
        "## Loss Plot\n",
        "plt.plot(history.history['loss'])\n",
        "plt.plot(history.history['val_loss'])\n",
        "plt.title('RNN Model loss')\n",
        "plt.ylabel('Loss')\n",
        "plt.xlabel('Epoch')\n",
        "plt.legend(['Training Loss', 'Validation Loss'], loc='lower right')\n",
        "plt.show()"
      ],
      "metadata": {
        "colab": {
          "base_uri": "https://localhost:8080/",
          "height": 573
        },
        "id": "n8uReLZVoJY9",
        "outputId": "81ccb0d9-8350-4d15-f121-6f99b1818f4f"
      },
      "execution_count": 62,
      "outputs": [
        {
          "output_type": "display_data",
          "data": {
            "image/png": "[encoded data removed]",
            "text/plain": [
              "<Figure size 432x288 with 1 Axes>"
            ]
          },
          "metadata": {
            "needs_background": "light"
          }
        },
        {
          "output_type": "display_data",
          "data": {
            "image/png": "[encoded data removed]",
            "text/plain": [
              "<Figure size 432x288 with 1 Axes>"
            ]
          },
          "metadata": {
            "needs_background": "light"
          }
        }
      ]
    },
    {
      "cell_type": "markdown",
      "source": [
        "# CNN"
      ],
      "metadata": {
        "id": "9HuZmU8OoEwu"
      }
    },
    {
      "cell_type": "code",
      "source": [
        "sequence_input = Input(shape=(maxlen,))\n",
        "model = Embedding( vocab_size , 100, weights=[embedding_matrix], trainable=False)(sequence_input)\n",
        "model =  SpatialDropout1D(0.5)(model)\n",
        "model = Conv1D(filters=100, kernel_size=4, padding='same', activation='relu')(model)\n",
        "model  = GlobalMaxPooling1D()(model)\n",
        "target = Dense(5, activation=\"sigmoid\")(model)\n",
        "CNN_model = Model(sequence_input, target)\n",
        "CNN_model.compile(loss='binary_crossentropy',optimizer=Adam(lr=1e-3),metrics='accuracy')"
      ],
      "metadata": {
        "colab": {
          "base_uri": "https://localhost:8080/"
        },
        "id": "tFpVv1h543xh",
        "outputId": "7efdfb96-3ad2-4a12-df7c-d4cdd2726f11"
      },
      "execution_count": 63,
      "outputs": [
        {
          "output_type": "stream",
          "name": "stderr",
          "text": [
            "/usr/local/lib/python3.7/dist-packages/keras/optimizer_v2/adam.py:105: UserWarning: The `lr` argument is deprecated, use `learning_rate` instead.\n",
            "  super(Adam, self).__init__(name, **kwargs)\n"
          ]
        }
      ]
    },
    {
      "cell_type": "code",
      "source": [
        "history = CNN_model.fit(X_train, y_train, batch_size=128, epochs=10, verbose=1, validation_split=0.2)"
      ],
      "metadata": {
        "colab": {
          "base_uri": "https://localhost:8080/"
        },
        "id": "rDQACeJ9431K",
        "outputId": "64b1b56b-1778-4646-e4af-0bb4fc18c6cf"
      },
      "execution_count": 64,
      "outputs": [
        {
          "output_type": "stream",
          "name": "stdout",
          "text": [
            "Epoch 1/10\n",
            "8/8 [==============================] - 2s 154ms/step - loss: 0.5794 - accuracy: 0.2329 - val_loss: 0.5124 - val_accuracy: 0.2636\n",
            "Epoch 2/10\n",
            "8/8 [==============================] - 1s 135ms/step - loss: 0.4653 - accuracy: 0.3882 - val_loss: 0.3971 - val_accuracy: 0.7155\n",
            "Epoch 3/10\n",
            "8/8 [==============================] - 1s 132ms/step - loss: 0.3945 - accuracy: 0.5719 - val_loss: 0.3411 - val_accuracy: 0.8368\n",
            "Epoch 4/10\n",
            "8/8 [==============================] - 1s 132ms/step - loss: 0.3355 - accuracy: 0.7671 - val_loss: 0.2990 - val_accuracy: 0.8954\n",
            "Epoch 5/10\n",
            "8/8 [==============================] - 1s 131ms/step - loss: 0.2954 - accuracy: 0.8248 - val_loss: 0.2613 - val_accuracy: 0.9163\n",
            "Epoch 6/10\n",
            "8/8 [==============================] - 1s 130ms/step - loss: 0.2670 - accuracy: 0.8416 - val_loss: 0.2284 - val_accuracy: 0.9289\n",
            "Epoch 7/10\n",
            "8/8 [==============================] - 1s 132ms/step - loss: 0.2387 - accuracy: 0.8688 - val_loss: 0.2064 - val_accuracy: 0.9372\n",
            "Epoch 8/10\n",
            "8/8 [==============================] - 1s 131ms/step - loss: 0.2175 - accuracy: 0.8804 - val_loss: 0.1855 - val_accuracy: 0.9498\n",
            "Epoch 9/10\n",
            "8/8 [==============================] - 1s 134ms/step - loss: 0.1999 - accuracy: 0.8867 - val_loss: 0.1685 - val_accuracy: 0.9456\n",
            "Epoch 10/10\n",
            "8/8 [==============================] - 1s 133ms/step - loss: 0.1827 - accuracy: 0.9056 - val_loss: 0.1561 - val_accuracy: 0.9540\n"
          ]
        }
      ]
    },
    {
      "cell_type": "code",
      "source": [
        "import matplotlib.pyplot as plt\n",
        "## Accuracy plot\n",
        "plt.plot(history.history['accuracy'])\n",
        "plt.plot(history.history['val_accuracy'])\n",
        "plt.title('CNN Model accuracy')\n",
        "plt.ylabel('Accuracy')\n",
        "plt.xlabel('Epoch')\n",
        "plt.legend(['Training Accuracy', 'Validation Accuracy'], loc='lower right')\n",
        "plt.show()\n",
        "\n",
        "## Loss Plot\n",
        "plt.plot(history.history['loss'])\n",
        "plt.plot(history.history['val_loss'])\n",
        "plt.title('CNN Model loss')\n",
        "plt.ylabel('Loss')\n",
        "plt.xlabel('Epoch')\n",
        "plt.legend(['Training Loss', 'Validation Loss'], loc='upper right')\n",
        "plt.show()"
      ],
      "metadata": {
        "colab": {
          "base_uri": "https://localhost:8080/",
          "height": 573
        },
        "id": "bUVO8E8EjExN",
        "outputId": "2caafea4-795d-4767-d8be-e9eb41e8760e"
      },
      "execution_count": 67,
      "outputs": [
        {
          "output_type": "display_data",
          "data": {
            "image/png": "[encoded data removed]",
            "text/plain": [
              "<Figure size 432x288 with 1 Axes>"
            ]
          },
          "metadata": {
            "needs_background": "light"
          }
        },
        {
          "output_type": "display_data",
          "data": {
            "image/png": "[encoded data removed]",
            "text/plain": [
              "<Figure size 432x288 with 1 Axes>"
            ]
          },
          "metadata": {
            "needs_background": "light"
          }
        }
      ]
    },
    {
      "cell_type": "code",
      "source": [
        ""
      ],
      "metadata": {
        "id": "kR1RIi7hjE0x"
      },
      "execution_count": null,
      "outputs": []
    }
  ]
}